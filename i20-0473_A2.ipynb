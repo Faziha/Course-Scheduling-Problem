{
 "cells": [
  {
   "cell_type": "code",
   "execution_count": 1,
   "id": "bec9753f",
   "metadata": {},
   "outputs": [],
   "source": [
    "import random\n",
    "from collections import Counter"
   ]
  },
  {
   "cell_type": "code",
   "execution_count": 2,
   "id": "ea585d66",
   "metadata": {},
   "outputs": [],
   "source": [
    "# Define problem constraints\n",
    "courses = ['C1', 'C2', 'C3', 'C4', 'C5']\n",
    "exam_halls = ['H1', 'H2']\n",
    "time_slots = ['T1', 'T2','T3']\n",
    "max_hours = {'H1': 5, 'H2': 5}\n",
    "conflicts = {('C1', 'C2'): 10, ('C1', 'C4'): 5, ('C2', 'C5'): 7, ('C3', 'C4'): 12, ('C4', 'C5'): 8}"
   ]
  },
  {
   "cell_type": "code",
   "execution_count": 3,
   "id": "416e25be",
   "metadata": {},
   "outputs": [],
   "source": [
    "# Since the solution is complex (i.e list of tuples) therefore this  \n",
    "# helper function helps us in generating a solution\n",
    "def create_solution():\n",
    "    solution = []\n",
    "    for course in courses:\n",
    "        exam_time = random.choice(time_slots)\n",
    "        exam_hall = random.choice(exam_halls)\n",
    "        solution.append((course, exam_time, exam_hall))\n",
    "    return solution\n",
    "\n",
    "# Fitness function for the problem\n",
    "def fitness_function(solution):\n",
    "    fitness = 0\n",
    "    for course1, time1, hall1 in solution:\n",
    "        for course2, time2, hall2 in solution:\n",
    "            if course1 != course2:\n",
    "                if time1 == time2 and hall1 == hall2:\n",
    "                    fitness += conflicts.get((course1, course2), 0)\n",
    "    h_list = []\n",
    "    \n",
    "    # adding fitness on basis of the usage of halls\n",
    "    for c,t,h in solution:\n",
    "        h_list.append(h)\n",
    "    \n",
    "    h_list.sort()\n",
    "        \n",
    "    usage = Counter(h_list)\n",
    "    \n",
    "    keys = usage.keys()\n",
    "    \n",
    "    for key in keys:\n",
    "        w = usage[key] - max_hours[key]\n",
    "        if w > 0:\n",
    "            fitness += w*5\n",
    "        \n",
    "    return fitness\n",
    "\n",
    "# Function to calculate the initial population for the algorithm\n",
    "def generate_population(size):\n",
    "    population = []\n",
    "    for i in range(size):\n",
    "        population.append(create_solution())\n",
    "    return population\n",
    "\n",
    "# Uses tournament selection for choosing parents\n",
    "def tournament_select(population, k):\n",
    "    return [min(random.sample(population, k), key=fitness_function) for i in range(len(population))]\n",
    "\n",
    "# sort the solution based on the Course number ( i.e   C1,C2,C3,...,Cn )\n",
    "def sort_p(solution):\n",
    "    solution.sort(key=lambda x: x[0], reverse=False)\n",
    "\n",
    "def crossover(parent1, parent2):\n",
    "    point = random.randint(1, len(courses)-1)\n",
    "    \n",
    "    # sort the entries in the parent\n",
    "    # this step is taken so that we do not produce duplicate values of courses in the offspring tuple\n",
    "    sort_p(parent1)\n",
    "    sort_p(parent2)\n",
    "    \n",
    "    offspring1 = parent1[:point] + parent2[point:]\n",
    "    offspring2 = parent2[:point] + parent1[point:]\n",
    "    return offspring1, offspring2\n",
    "\n",
    "def mutate(solution):\n",
    "    course, time, hall = random.choice(solution)\n",
    "    solution.remove((course, time, hall))\n",
    "    solution.append((course, random.choice(time_slots), random.choice(exam_halls)))\n",
    "    return solution"
   ]
  },
  {
   "cell_type": "code",
   "execution_count": 4,
   "id": "e38b3c73",
   "metadata": {},
   "outputs": [],
   "source": [
    "def genetic_algorithm(population_size, generations, tournament_size, crossover_probability, mutation_probability):\n",
    "    population = generate_population(population_size)\n",
    "    \n",
    "    # Running the Algorithm\n",
    "    for i in range(generations):\n",
    "        # selecting parents\n",
    "        parents = tournament_select(population, tournament_size)\n",
    "        \n",
    "        # generating offsprings\n",
    "        offsprings = []\n",
    "        \n",
    "        for i in range(0, population_size, 2):\n",
    "            parent1 = random.choice(parents)\n",
    "            parent2 = random.choice(parents)\n",
    "            if random.random() < crossover_probability:\n",
    "                offspring1, offspring2 = crossover(parent1, parent2)\n",
    "            else:\n",
    "                offspring1, offspring2 = parent1, parent2\n",
    "            if random.random() < mutation_probability:\n",
    "                offspring1 = mutate(offspring1)\n",
    "            if random.random() < mutation_probability:\n",
    "                offspring2 = mutate(offspring2)\n",
    "            offsprings.append(offspring1)\n",
    "            offsprings.append(offspring2)\n",
    "\n",
    "        # Replace the previous population\n",
    "        population = offsprings\n",
    "\n",
    "    # Finding best solution (one with the minimum fitness value)\n",
    "    best_solution = min(population, key=fitness_function)\n",
    "\n",
    "    return best_solution"
   ]
  },
  {
   "cell_type": "code",
   "execution_count": 5,
   "id": "59a4a05a",
   "metadata": {},
   "outputs": [],
   "source": [
    "population_size = 100\n",
    "generations = 100\n",
    "tournament_size = 5\n",
    "crossover_probability = 0.8\n",
    "mutation_probability = 0.1\n",
    "\n",
    "\n",
    "solution = genetic_algorithm(population_size, generations, tournament_size, crossover_probability, mutation_probability)\n",
    "fitness = fitness_function(solution)"
   ]
  },
  {
   "cell_type": "code",
   "execution_count": 6,
   "id": "9166911c",
   "metadata": {},
   "outputs": [
    {
     "name": "stdout",
     "output_type": "stream",
     "text": [
      "Best solution: [('C1', 'T3', 'H2'), ('C2', 'T2', 'H2'), ('C3', 'T2', 'H1'), ('C4', 'T2', 'H2'), ('C5', 'T2', 'H1')]\n",
      "Best fitness: 0\n"
     ]
    }
   ],
   "source": [
    "print('Best solution:', solution)\n",
    "print('Best fitness:', fitness)"
   ]
  }
 ],
 "metadata": {
  "kernelspec": {
   "display_name": "Python 3 (ipykernel)",
   "language": "python",
   "name": "python3"
  },
  "language_info": {
   "codemirror_mode": {
    "name": "ipython",
    "version": 3
   },
   "file_extension": ".py",
   "mimetype": "text/x-python",
   "name": "python",
   "nbconvert_exporter": "python",
   "pygments_lexer": "ipython3",
   "version": "3.9.16"
  }
 },
 "nbformat": 4,
 "nbformat_minor": 5
}
